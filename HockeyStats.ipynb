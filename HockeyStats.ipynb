{
 "cells": [
  {
   "cell_type": "markdown",
   "metadata": {},
   "source": [
    "# NHL Player data.  This data was harvested from the NHL Stats website."
   ]
  },
  {
   "cell_type": "code",
   "execution_count": 2,
   "metadata": {},
   "outputs": [],
   "source": [
    "import pandas as pd\n",
    "import json\n",
    "import numpy as np\n",
    "import os\n",
    "import urllib.request\n",
    "\n",
    "import matplotlib.pyplot as plt\n",
    "%matplotlib inline\n"
   ]
  },
  {
   "cell_type": "markdown",
   "metadata": {},
   "source": [
    "## Load the data.  Each season is stored in a separate file.  All the data will be loaded into a single Pandas dataframe.  The pandas dataframe will contain all player information since 1917."
   ]
  },
  {
   "cell_type": "code",
   "execution_count": 19,
   "metadata": {},
   "outputs": [
    {
     "name": "stderr",
     "output_type": "stream",
     "text": [
      "C:\\Anaconda3\\envs\\ml\\lib\\site-packages\\pandas\\core\\frame.py:6211: FutureWarning: Sorting because non-concatenation axis is not aligned. A future version\n",
      "of pandas will change to not sort by default.\n",
      "\n",
      "To accept the future behavior, pass 'sort=False'.\n",
      "\n",
      "To retain the current behavior and silence the warning, pass 'sort=True'.\n",
      "\n",
      "  sort=sort)\n"
     ]
    },
    {
     "data": {
      "text/html": [
       "<div>\n",
       "<style scoped>\n",
       "    .dataframe tbody tr th:only-of-type {\n",
       "        vertical-align: middle;\n",
       "    }\n",
       "\n",
       "    .dataframe tbody tr th {\n",
       "        vertical-align: top;\n",
       "    }\n",
       "\n",
       "    .dataframe thead th {\n",
       "        text-align: right;\n",
       "    }\n",
       "</style>\n",
       "<table border=\"1\" class=\"dataframe\">\n",
       "  <thead>\n",
       "    <tr style=\"text-align: right;\">\n",
       "      <th></th>\n",
       "      <th>assists</th>\n",
       "      <th>faceoffWinPctg</th>\n",
       "      <th>gameWinningGoals</th>\n",
       "      <th>gamesPlayed</th>\n",
       "      <th>goals</th>\n",
       "      <th>otGoals</th>\n",
       "      <th>penaltyMinutes</th>\n",
       "      <th>playerBirthCity</th>\n",
       "      <th>playerBirthCountry</th>\n",
       "      <th>playerBirthDate</th>\n",
       "      <th>...</th>\n",
       "      <th>pointsPerGame</th>\n",
       "      <th>ppGoals</th>\n",
       "      <th>ppPoints</th>\n",
       "      <th>shGoals</th>\n",
       "      <th>shPoints</th>\n",
       "      <th>shiftsPerGame</th>\n",
       "      <th>shootingPctg</th>\n",
       "      <th>shots</th>\n",
       "      <th>timeOnIcePerGame</th>\n",
       "      <th>year</th>\n",
       "    </tr>\n",
       "  </thead>\n",
       "  <tbody>\n",
       "    <tr>\n",
       "      <th>880</th>\n",
       "      <td>0.0</td>\n",
       "      <td>0</td>\n",
       "      <td>0.0</td>\n",
       "      <td>3.0</td>\n",
       "      <td>0.0</td>\n",
       "      <td>0.0</td>\n",
       "      <td>0.0</td>\n",
       "      <td>Vihti</td>\n",
       "      <td>FIN</td>\n",
       "      <td>1999-04-22</td>\n",
       "      <td>...</td>\n",
       "      <td>0.0</td>\n",
       "      <td>0</td>\n",
       "      <td>0</td>\n",
       "      <td>0</td>\n",
       "      <td>0</td>\n",
       "      <td>19</td>\n",
       "      <td>0</td>\n",
       "      <td>3</td>\n",
       "      <td>726.667</td>\n",
       "      <td>2017</td>\n",
       "    </tr>\n",
       "    <tr>\n",
       "      <th>881</th>\n",
       "      <td>0.0</td>\n",
       "      <td>0.3333</td>\n",
       "      <td>0.0</td>\n",
       "      <td>5.0</td>\n",
       "      <td>0.0</td>\n",
       "      <td>0.0</td>\n",
       "      <td>2.0</td>\n",
       "      <td>Brampton</td>\n",
       "      <td>CAN</td>\n",
       "      <td>1993-04-27</td>\n",
       "      <td>...</td>\n",
       "      <td>0.0</td>\n",
       "      <td>0</td>\n",
       "      <td>0</td>\n",
       "      <td>0</td>\n",
       "      <td>0</td>\n",
       "      <td>10.6</td>\n",
       "      <td>0</td>\n",
       "      <td>1</td>\n",
       "      <td>404.4</td>\n",
       "      <td>2017</td>\n",
       "    </tr>\n",
       "    <tr>\n",
       "      <th>882</th>\n",
       "      <td>0.0</td>\n",
       "      <td>0.6774</td>\n",
       "      <td>0.0</td>\n",
       "      <td>7.0</td>\n",
       "      <td>0.0</td>\n",
       "      <td>0.0</td>\n",
       "      <td>6.0</td>\n",
       "      <td>Miramichi</td>\n",
       "      <td>CAN</td>\n",
       "      <td>1989-05-20</td>\n",
       "      <td>...</td>\n",
       "      <td>0.0</td>\n",
       "      <td>0</td>\n",
       "      <td>0</td>\n",
       "      <td>0</td>\n",
       "      <td>0</td>\n",
       "      <td>12.2857</td>\n",
       "      <td>0</td>\n",
       "      <td>9</td>\n",
       "      <td>479.286</td>\n",
       "      <td>2017</td>\n",
       "    </tr>\n",
       "    <tr>\n",
       "      <th>883</th>\n",
       "      <td>0.0</td>\n",
       "      <td>0</td>\n",
       "      <td>0.0</td>\n",
       "      <td>4.0</td>\n",
       "      <td>0.0</td>\n",
       "      <td>0.0</td>\n",
       "      <td>2.0</td>\n",
       "      <td>Calgary</td>\n",
       "      <td>CAN</td>\n",
       "      <td>1994-02-14</td>\n",
       "      <td>...</td>\n",
       "      <td>0.0</td>\n",
       "      <td>0</td>\n",
       "      <td>0</td>\n",
       "      <td>0</td>\n",
       "      <td>0</td>\n",
       "      <td>10.25</td>\n",
       "      <td>0</td>\n",
       "      <td>0</td>\n",
       "      <td>438</td>\n",
       "      <td>2017</td>\n",
       "    </tr>\n",
       "    <tr>\n",
       "      <th>884</th>\n",
       "      <td>0.0</td>\n",
       "      <td>0</td>\n",
       "      <td>0.0</td>\n",
       "      <td>2.0</td>\n",
       "      <td>0.0</td>\n",
       "      <td>0.0</td>\n",
       "      <td>4.0</td>\n",
       "      <td>North York</td>\n",
       "      <td>CAN</td>\n",
       "      <td>1989-04-18</td>\n",
       "      <td>...</td>\n",
       "      <td>0.0</td>\n",
       "      <td>0</td>\n",
       "      <td>0</td>\n",
       "      <td>0</td>\n",
       "      <td>0</td>\n",
       "      <td>8</td>\n",
       "      <td>0</td>\n",
       "      <td>0</td>\n",
       "      <td>278.5</td>\n",
       "      <td>2017</td>\n",
       "    </tr>\n",
       "    <tr>\n",
       "      <th>885</th>\n",
       "      <td>0.0</td>\n",
       "      <td>0.5555</td>\n",
       "      <td>0.0</td>\n",
       "      <td>2.0</td>\n",
       "      <td>0.0</td>\n",
       "      <td>0.0</td>\n",
       "      <td>2.0</td>\n",
       "      <td>Repentigny</td>\n",
       "      <td>CAN</td>\n",
       "      <td>1995-03-27</td>\n",
       "      <td>...</td>\n",
       "      <td>0.0</td>\n",
       "      <td>0</td>\n",
       "      <td>0</td>\n",
       "      <td>0</td>\n",
       "      <td>0</td>\n",
       "      <td>12.5</td>\n",
       "      <td>0</td>\n",
       "      <td>1</td>\n",
       "      <td>433.5</td>\n",
       "      <td>2017</td>\n",
       "    </tr>\n",
       "    <tr>\n",
       "      <th>886</th>\n",
       "      <td>0.0</td>\n",
       "      <td>0</td>\n",
       "      <td>0.0</td>\n",
       "      <td>1.0</td>\n",
       "      <td>0.0</td>\n",
       "      <td>0.0</td>\n",
       "      <td>4.0</td>\n",
       "      <td>Fribourg</td>\n",
       "      <td>CHE</td>\n",
       "      <td>1994-04-05</td>\n",
       "      <td>...</td>\n",
       "      <td>0.0</td>\n",
       "      <td>0</td>\n",
       "      <td>0</td>\n",
       "      <td>0</td>\n",
       "      <td>0</td>\n",
       "      <td>9</td>\n",
       "      <td>0</td>\n",
       "      <td>0</td>\n",
       "      <td>323</td>\n",
       "      <td>2017</td>\n",
       "    </tr>\n",
       "    <tr>\n",
       "      <th>887</th>\n",
       "      <td>0.0</td>\n",
       "      <td>0</td>\n",
       "      <td>0.0</td>\n",
       "      <td>1.0</td>\n",
       "      <td>0.0</td>\n",
       "      <td>0.0</td>\n",
       "      <td>0.0</td>\n",
       "      <td>Molnlycke</td>\n",
       "      <td>SWE</td>\n",
       "      <td>1995-03-14</td>\n",
       "      <td>...</td>\n",
       "      <td>0.0</td>\n",
       "      <td>0</td>\n",
       "      <td>0</td>\n",
       "      <td>0</td>\n",
       "      <td>0</td>\n",
       "      <td>12</td>\n",
       "      <td>0</td>\n",
       "      <td>0</td>\n",
       "      <td>623</td>\n",
       "      <td>2017</td>\n",
       "    </tr>\n",
       "    <tr>\n",
       "      <th>888</th>\n",
       "      <td>0.0</td>\n",
       "      <td>0.6</td>\n",
       "      <td>0.0</td>\n",
       "      <td>1.0</td>\n",
       "      <td>0.0</td>\n",
       "      <td>0.0</td>\n",
       "      <td>0.0</td>\n",
       "      <td>Amos</td>\n",
       "      <td>CAN</td>\n",
       "      <td>1997-02-05</td>\n",
       "      <td>...</td>\n",
       "      <td>0.0</td>\n",
       "      <td>0</td>\n",
       "      <td>0</td>\n",
       "      <td>0</td>\n",
       "      <td>0</td>\n",
       "      <td>16</td>\n",
       "      <td>0</td>\n",
       "      <td>1</td>\n",
       "      <td>646</td>\n",
       "      <td>2017</td>\n",
       "    </tr>\n",
       "    <tr>\n",
       "      <th>889</th>\n",
       "      <td>0.0</td>\n",
       "      <td>0</td>\n",
       "      <td>0.0</td>\n",
       "      <td>5.0</td>\n",
       "      <td>0.0</td>\n",
       "      <td>0.0</td>\n",
       "      <td>2.0</td>\n",
       "      <td>Milwaukee</td>\n",
       "      <td>USA</td>\n",
       "      <td>1995-07-28</td>\n",
       "      <td>...</td>\n",
       "      <td>0.0</td>\n",
       "      <td>0</td>\n",
       "      <td>0</td>\n",
       "      <td>0</td>\n",
       "      <td>0</td>\n",
       "      <td>13.6</td>\n",
       "      <td>0</td>\n",
       "      <td>1</td>\n",
       "      <td>582</td>\n",
       "      <td>2017</td>\n",
       "    </tr>\n",
       "  </tbody>\n",
       "</table>\n",
       "<p>10 rows × 37 columns</p>\n",
       "</div>"
      ],
      "text/plain": [
       "     assists faceoffWinPctg  gameWinningGoals  gamesPlayed  goals  otGoals  \\\n",
       "880      0.0              0               0.0          3.0    0.0      0.0   \n",
       "881      0.0         0.3333               0.0          5.0    0.0      0.0   \n",
       "882      0.0         0.6774               0.0          7.0    0.0      0.0   \n",
       "883      0.0              0               0.0          4.0    0.0      0.0   \n",
       "884      0.0              0               0.0          2.0    0.0      0.0   \n",
       "885      0.0         0.5555               0.0          2.0    0.0      0.0   \n",
       "886      0.0              0               0.0          1.0    0.0      0.0   \n",
       "887      0.0              0               0.0          1.0    0.0      0.0   \n",
       "888      0.0            0.6               0.0          1.0    0.0      0.0   \n",
       "889      0.0              0               0.0          5.0    0.0      0.0   \n",
       "\n",
       "     penaltyMinutes playerBirthCity playerBirthCountry playerBirthDate  ...   \\\n",
       "880             0.0           Vihti                FIN      1999-04-22  ...    \n",
       "881             2.0        Brampton                CAN      1993-04-27  ...    \n",
       "882             6.0       Miramichi                CAN      1989-05-20  ...    \n",
       "883             2.0         Calgary                CAN      1994-02-14  ...    \n",
       "884             4.0      North York                CAN      1989-04-18  ...    \n",
       "885             2.0      Repentigny                CAN      1995-03-27  ...    \n",
       "886             4.0        Fribourg                CHE      1994-04-05  ...    \n",
       "887             0.0       Molnlycke                SWE      1995-03-14  ...    \n",
       "888             0.0            Amos                CAN      1997-02-05  ...    \n",
       "889             2.0       Milwaukee                USA      1995-07-28  ...    \n",
       "\n",
       "    pointsPerGame ppGoals ppPoints shGoals shPoints  shiftsPerGame  \\\n",
       "880           0.0       0        0       0        0             19   \n",
       "881           0.0       0        0       0        0           10.6   \n",
       "882           0.0       0        0       0        0        12.2857   \n",
       "883           0.0       0        0       0        0          10.25   \n",
       "884           0.0       0        0       0        0              8   \n",
       "885           0.0       0        0       0        0           12.5   \n",
       "886           0.0       0        0       0        0              9   \n",
       "887           0.0       0        0       0        0             12   \n",
       "888           0.0       0        0       0        0             16   \n",
       "889           0.0       0        0       0        0           13.6   \n",
       "\n",
       "     shootingPctg  shots  timeOnIcePerGame  year  \n",
       "880             0      3           726.667  2017  \n",
       "881             0      1             404.4  2017  \n",
       "882             0      9           479.286  2017  \n",
       "883             0      0               438  2017  \n",
       "884             0      0             278.5  2017  \n",
       "885             0      1             433.5  2017  \n",
       "886             0      0               323  2017  \n",
       "887             0      0               623  2017  \n",
       "888             0      1               646  2017  \n",
       "889             0      1               582  2017  \n",
       "\n",
       "[10 rows x 37 columns]"
      ]
     },
     "execution_count": 19,
     "metadata": {},
     "output_type": "execute_result"
    }
   ],
   "source": [
    "playerdata = pd.DataFrame()\n",
    "startYear = 1917\n",
    "\n",
    "while startYear < 2018:\n",
    "    yearField = str(startYear) + str(startYear+1)\n",
    "    theUrl = 'http://www.nhl.com/stats/rest/skaters?isAggregate=true&reportType=basic&isGame=false&reportName=skatersummary&sort=[{%22property%22:%22points%22,%22direction%22:%22DESC%22}]&cayenneExp=gameTypeId=2and%20seasonId%3E='+yearField+'and%20seasonId%3C='+yearField\n",
    "    response = urllib.request.urlopen(theUrl)\n",
    "    data = response.read()\n",
    "    text = data.decode('utf-8')\n",
    "    jsonData = json.loads( text )\n",
    "    yearData = pd.DataFrame.from_dict(jsonData['data'], orient='columns')\n",
    "    yearData['year'] = startYear\n",
    "    playerdata = playerdata.append(yearData)\n",
    "    startYear += 1\n",
    "\n",
    "\n",
    "#print( playerdata.count())\n",
    "playerdata.tail(10)"
   ]
  },
  {
   "cell_type": "code",
   "execution_count": 20,
   "metadata": {},
   "outputs": [
    {
     "name": "stdout",
     "output_type": "stream",
     "text": [
      "Index(['assists', 'faceoffWinPctg', 'gameWinningGoals', 'gamesPlayed', 'goals',\n",
      "       'otGoals', 'penaltyMinutes', 'playerBirthCity', 'playerBirthCountry',\n",
      "       'playerBirthDate', 'playerBirthStateProvince',\n",
      "       'playerDraftOverallPickNo', 'playerDraftRoundNo', 'playerDraftYear',\n",
      "       'playerFirstName', 'playerHeight', 'playerId', 'playerInHockeyHof',\n",
      "       'playerIsActive', 'playerLastName', 'playerName', 'playerNationality',\n",
      "       'playerPositionCode', 'playerShootsCatches', 'playerWeight',\n",
      "       'plusMinus', 'points', 'pointsPerGame', 'ppGoals', 'ppPoints',\n",
      "       'shGoals', 'shPoints', 'shiftsPerGame', 'shootingPctg', 'shots',\n",
      "       'timeOnIcePerGame', 'year'],\n",
      "      dtype='object')\n"
     ]
    }
   ],
   "source": [
    "# Print the columns\n",
    "print( playerdata.columns )"
   ]
  },
  {
   "cell_type": "markdown",
   "metadata": {},
   "source": [
    "# Lets get the years for the dataset"
   ]
  },
  {
   "cell_type": "code",
   "execution_count": 21,
   "metadata": {},
   "outputs": [
    {
     "data": {
      "text/plain": [
       "array([1917, 1918, 1919, 1920, 1921, 1922, 1923, 1924, 1925, 1926, 1927,\n",
       "       1928, 1929, 1930, 1931, 1932, 1933, 1934, 1935, 1936, 1937, 1938,\n",
       "       1939, 1940, 1941, 1942, 1943, 1944, 1945, 1946, 1947, 1948, 1949,\n",
       "       1950, 1951, 1952, 1953, 1954, 1955, 1956, 1957, 1958, 1959, 1960,\n",
       "       1961, 1962, 1963, 1964, 1965, 1966, 1967, 1968, 1969, 1970, 1971,\n",
       "       1972, 1973, 1974, 1975, 1976, 1977, 1978, 1979, 1980, 1981, 1982,\n",
       "       1983, 1984, 1985, 1986, 1987, 1988, 1989, 1990, 1991, 1992, 1993,\n",
       "       1994, 1995, 1996, 1997, 1998, 1999, 2000, 2001, 2002, 2003, 2005,\n",
       "       2006, 2007, 2008, 2009, 2010, 2011, 2012, 2013, 2014, 2015, 2016,\n",
       "       2017], dtype=int64)"
      ]
     },
     "execution_count": 21,
     "metadata": {},
     "output_type": "execute_result"
    }
   ],
   "source": [
    "years = playerdata['year'].unique()\n",
    "years"
   ]
  },
  {
   "cell_type": "code",
   "execution_count": 22,
   "metadata": {},
   "outputs": [
    {
     "name": "stdout",
     "output_type": "stream",
     "text": [
      "playerName  year  goals\n",
      "Wayne Gretzky  1981   92.0\n"
     ]
    }
   ],
   "source": [
    "# Print out the player and year that the most goals were scored\n",
    "mostGoals = playerdata[['playerName', 'year', 'goals']] [playerdata.goals == playerdata.goals.max()]\n",
    "print(mostGoals.to_string(index=False))"
   ]
  },
  {
   "cell_type": "code",
   "execution_count": 23,
   "metadata": {},
   "outputs": [
    {
     "name": "stdout",
     "output_type": "stream",
     "text": [
      "92.0\n"
     ]
    }
   ],
   "source": [
    "# What's the most goals scored in a season\n",
    "print( playerdata.goals.max())"
   ]
  },
  {
   "cell_type": "code",
   "execution_count": 24,
   "metadata": {},
   "outputs": [
    {
     "name": "stdout",
     "output_type": "stream",
     "text": [
      "0             Connor McDavid\n",
      "1              Claude Giroux\n",
      "2            Nikita Kucherov\n",
      "3              Evgeni Malkin\n",
      "4           Nathan MacKinnon\n",
      "5                Taylor Hall\n",
      "6               Anze Kopitar\n",
      "7                Phil Kessel\n",
      "8              Blake Wheeler\n",
      "9              Sidney Crosby\n",
      "10             Alex Ovechkin\n",
      "11            Steven Stamkos\n",
      "12             Brad Marchand\n",
      "13             Mathew Barzal\n",
      "14             Jakub Voracek\n",
      "15              John Tavares\n",
      "16            Mikko Rantanen\n",
      "17           Johnny Gaudreau\n",
      "18          Evgeny Kuznetsov\n",
      "19            Artemi Panarin\n",
      "20            David Pastrnak\n",
      "21                Jamie Benn\n",
      "22              Tyler Seguin\n",
      "23         Aleksander Barkov\n",
      "24          William Karlsson\n",
      "25            Sean Couturier\n",
      "26                Eric Staal\n",
      "27              Patrick Kane\n",
      "28          Vincent Trocheck\n",
      "29     Jonathan Marchessault\n",
      "               ...          \n",
      "860           Steven Fogarty\n",
      "861        Michael Bournival\n",
      "862             Beau Bennett\n",
      "863             Matt Moulson\n",
      "864               Ben Sexton\n",
      "865            Danick Martel\n",
      "866                 Mark Alt\n",
      "867             Liam O'Brien\n",
      "868             Zach Trotman\n",
      "869             Dalton Prout\n",
      "870        Michael Dal Colle\n",
      "871               Wade Megan\n",
      "872             Rinat Valiev\n",
      "873          Andreas Englund\n",
      "874          Janne Kuokkanen\n",
      "875             Nathan Gerbe\n",
      "876         Nicolas Kerdiles\n",
      "877            Eric Robinson\n",
      "878             Justin Auger\n",
      "879           Dylan Gambrell\n",
      "880            Eeli Tolvanen\n",
      "881            Tyler Graovac\n",
      "882              Brad Malone\n",
      "883            Jack Rodewald\n",
      "884           Anthony Peluso\n",
      "885          Laurent Dauphin\n",
      "886       Christoph Bertschy\n",
      "887              Anton Blidh\n",
      "888              Nicolas Roy\n",
      "889          Hudson Fasching\n",
      "Name: playerName, Length: 890, dtype: object\n"
     ]
    }
   ],
   "source": [
    "# print all players that played in 2017\n",
    "print( playerdata['playerName'][playerdata.year == 2017])"
   ]
  },
  {
   "cell_type": "code",
   "execution_count": 25,
   "metadata": {},
   "outputs": [
    {
     "data": {
      "text/plain": [
       "0       Connor McDavid\n",
       "3        Evgeni Malkin\n",
       "10       Alex Ovechkin\n",
       "24    William Karlsson\n",
       "26          Eric Staal\n",
       "33        Patrik Laine\n",
       "Name: playerName, dtype: object"
      ]
     },
     "execution_count": 25,
     "metadata": {},
     "output_type": "execute_result"
    }
   ],
   "source": [
    "# Print out all the players that scored over 40 goals in the 2017-18 season\n",
    "playerdata.query( 'goals > 40 and year == 2017')['playerName']"
   ]
  },
  {
   "cell_type": "code",
   "execution_count": 26,
   "metadata": {},
   "outputs": [
    {
     "data": {
      "text/plain": [
       "[<matplotlib.lines.Line2D at 0x20d0088eb38>]"
      ]
     },
     "execution_count": 26,
     "metadata": {},
     "output_type": "execute_result"
    },
    {
     "data": {
      "image/png": "[encoded data removed]",
      "text/plain": [
       "<Figure size 432x288 with 1 Axes>"
      ]
     },
     "metadata": {},
     "output_type": "display_data"
    }
   ],
   "source": [
    "# Max goals per year graphed out\n",
    "maxGoalsPerYear = pd.DataFrame(columns=['year','goals'])\n",
    "for year in years:\n",
    "    maxGoalsForYear = playerdata[['playerName','goals','year']].query('year == @year').goals.max()\n",
    "    maxGoalsPerYear = maxGoalsPerYear.append({'year':year, 'goals':maxGoalsForYear}, ignore_index=True)\n",
    "\n",
    "plt.plot(maxGoalsPerYear['year'], maxGoalsPerYear['goals'])"
   ]
  },
  {
   "cell_type": "code",
   "execution_count": 27,
   "metadata": {},
   "outputs": [
    {
     "name": "stdout",
     "output_type": "stream",
     "text": [
      "1917 44.0 Joe Malone\n",
      "1918 23.0 Newsy Lalonde\n",
      "1919 39.0 Joe Malone\n",
      "1920 35.0 Babe Dye\n",
      "1921 31.0 Punch Broadbent\n",
      "       Babe Dye\n",
      "1922 27.0 Babe Dye\n",
      "1923 22.0 Cy Denneny\n",
      "1924 38.0 Babe Dye\n",
      "1925 34.0 Nels Stewart\n",
      "1926 33.0 Bill Cook\n",
      "1927 33.0 Howie Morenz\n",
      "1928 22.0 Ace Bailey\n",
      "1929 43.0 Cooney Weiland\n",
      "1930 31.0 Charlie Conacher\n",
      "1931 34.0 Charlie Conacher\n",
      "1932 28.0 Bill Cook\n",
      "1933 32.0 Charlie Conacher\n",
      "1934 36.0 Charlie Conacher\n",
      "1935 23.0 Charlie Conacher\n",
      "      Bill Thoms\n",
      "1936 23.0 Larry Aurie\n",
      "Nels Stewart\n",
      "1937 26.0 Gordie Drillon\n",
      "1938 26.0 Roy Conacher\n",
      "1939 24.0 Bryan Hextall Sr.\n",
      "1940 26.0 Bryan Hextall Sr.\n",
      "1941 32.0 Lynn Patrick\n",
      "1942 33.0 Doug Bentley\n",
      "1943 38.0 Doug Bentley\n",
      "1944 50.0 Maurice Richard\n",
      "1945 37.0 Gaye Stewart\n",
      "1946 45.0 Maurice Richard\n",
      "1947 33.0 Ted Lindsay\n",
      "1948 28.0 Sid Abel\n",
      "1949 43.0 Maurice Richard\n",
      "1950 43.0 Gordie Howe\n",
      "1951 47.0 Gordie Howe\n",
      "1952 49.0 Gordie Howe\n",
      "1953 37.0 Maurice Richard\n",
      "1954 38.0 Bernie Geoffrion\n",
      " Maurice Richard\n",
      "1955 47.0 Jean Beliveau\n",
      "1956 44.0 Gordie Howe\n",
      "1957 36.0 Dickie Moore\n",
      "1958 45.0 Jean Beliveau\n",
      "1959 39.0 Bobby Hull\n",
      "Bronco Horvath\n",
      "1960 50.0 Bernie Geoffrion\n",
      "1961 50.0 Bobby Hull\n",
      "1962 38.0 Gordie Howe\n",
      "1963 43.0 Bobby Hull\n",
      "1964 42.0 Norm Ullman\n",
      "1965 54.0 Bobby Hull\n",
      "1966 52.0 Bobby Hull\n",
      "1967 44.0 Bobby Hull\n",
      "1968 58.0 Bobby Hull\n",
      "1969 43.0 Phil Esposito\n",
      "1970 76.0 Phil Esposito\n",
      "1971 66.0 Phil Esposito\n",
      "1972 55.0 Phil Esposito\n",
      "1973 68.0 Phil Esposito\n",
      "1974 61.0 Phil Esposito\n",
      "1975 61.0 Reggie Leach\n",
      "1976 60.0 Steve Shutt\n",
      "1977 60.0 Guy Lafleur\n",
      "1978 69.0 Mike Bossy\n",
      "1979 56.0 Charlie Simmer\n",
      "Blaine Stoughton\n",
      "      Danny Gare\n",
      "1980 68.0 Mike Bossy\n",
      "1981 92.0 Wayne Gretzky\n",
      "1982 71.0 Wayne Gretzky\n",
      "1983 87.0 Wayne Gretzky\n",
      "1984 73.0 Wayne Gretzky\n",
      "1985 68.0 Jari Kurri\n",
      "1986 62.0 Wayne Gretzky\n",
      "1987 70.0 Mario Lemieux\n",
      "1988 85.0 Mario Lemieux\n",
      "1989 72.0 Brett Hull\n",
      "1990 86.0 Brett Hull\n",
      "1991 70.0 Brett Hull\n",
      "1992 76.0 Teemu Selanne\n",
      "Alexander Mogilny\n",
      "1993 60.0 Pavel Bure\n",
      "1994 34.0 Peter Bondra\n",
      "1995 69.0 Mario Lemieux\n",
      "1996 52.0 Keith Tkachuk\n",
      "1997 52.0 Teemu Selanne\n",
      " Peter Bondra\n",
      "1998 47.0 Teemu Selanne\n",
      "1999 58.0 Pavel Bure\n",
      "2000 59.0 Pavel Bure\n",
      "2001 52.0 Jarome Iginla\n",
      "2002 50.0 Milan Hejduk\n",
      "2003 41.0 Ilya Kovalchuk\n",
      " Jarome Iginla\n",
      "     Rick Nash\n",
      "2005 56.0 Jonathan Cheechoo\n",
      "2006 52.0 Vincent Lecavalier\n",
      "2007 65.0 Alex Ovechkin\n",
      "2008 56.0 Alex Ovechkin\n",
      "2009 51.0 Sidney Crosby\n",
      "Steven Stamkos\n",
      "2010 50.0 Corey Perry\n",
      "2011 60.0 Steven Stamkos\n",
      "2012 32.0 Alex Ovechkin\n",
      "2013 51.0 Alex Ovechkin\n",
      "2014 53.0 Alex Ovechkin\n",
      "2015 50.0 Alex Ovechkin\n",
      "2016 44.0 Sidney Crosby\n",
      "2017 49.0 Alex Ovechkin\n"
     ]
    }
   ],
   "source": [
    "for year in years:\n",
    "    y = playerdata.query('year == @year')\n",
    "    maxgoals = y.goals.max()\n",
    "    print( \"{} {} {}\".format(year, maxgoals, y.query('goals == @maxgoals')['playerName'].to_string(index=False)))"
   ]
  },
  {
   "cell_type": "code",
   "execution_count": 28,
   "metadata": {},
   "outputs": [
    {
     "data": {
      "text/plain": [
       "[<matplotlib.lines.Line2D at 0x20d7e9069e8>]"
      ]
     },
     "execution_count": 28,
     "metadata": {},
     "output_type": "execute_result"
    },
    {
     "data": {
      "image/png": "[encoded data removed]",
      "text/plain": [
       "<Figure size 432x288 with 1 Axes>"
      ]
     },
     "metadata": {},
     "output_type": "display_data"
    }
   ],
   "source": [
    "# Average height and weight of players over the years\n",
    "height = pd.DataFrame(columns=['year','height','weight'])\n",
    "for year in years:\n",
    "    y = playerdata.query('year == @year')\n",
    "    height = height.append({'year':year, 'height':y['playerHeight'].mean(), 'weight':y['playerWeight'].mean()}, ignore_index=True)\n",
    "\n",
    "plt.plot(height['year'], height['height'])\n",
    "plt.plot(height['year'], height['weight'])"
   ]
  },
  {
   "cell_type": "code",
   "execution_count": 29,
   "metadata": {},
   "outputs": [
    {
     "data": {
      "image/png": "[encoded data removed]",
      "text/plain": [
       "<Figure size 432x288 with 1 Axes>"
      ]
     },
     "metadata": {},
     "output_type": "display_data"
    }
   ],
   "source": [
    "# Generate pie charts with player nationality\n",
    "nationality = pd.DataFrame()\n",
    "countries = playerdata.playerBirthCountry.unique()\n",
    "for country in countries:\n",
    "    count = playerdata.query('playerNationality == @country')['playerName'].count()\n",
    "    nationality = nationality.append({'country':country, 'count':count}, ignore_index=True)\n",
    "\n",
    "fig1, ax1 = plt.subplots()\n",
    "ax1.pie(nationality['count'], labels=nationality['country'], autopct='%1.1f%%',\n",
    "        shadow=True, startangle=90)\n",
    "ax1.axis('equal')\n",
    "plt.plot(figsize=(230,230))\n",
    "plt.show()"
   ]
  },
  {
   "cell_type": "code",
   "execution_count": 30,
   "metadata": {},
   "outputs": [],
   "source": [
    "def plotPlayerInfo(player):\n",
    "    player = playerdata.query('playerName == @player')\n",
    "    fo = plt.plot(player['year'], player['faceoffWinPctg'], label='faceoffWinPctg')\n",
    "    gp = plt.plot(player['year'], player['gamesPlayed'], label='gamesPlayed')\n",
    "    ss = plt.plot(player['year'], player['assists'], label='assists')\n",
    "    go = plt.plot(player['year'], player['goals'], label='goals')\n",
    "    pm = plt.plot(player['year'], player['penaltyMinutes'], label='penaltyMinutes')\n",
    "    plt.legend(bbox_to_anchor=(1.05, 1), loc=2, borderaxespad=0.)"
   ]
  },
  {
   "cell_type": "code",
   "execution_count": 31,
   "metadata": {},
   "outputs": [
    {
     "data": {
      "image/png": "[encoded data removed]",
      "text/plain": [
       "<Figure size 432x288 with 1 Axes>"
      ]
     },
     "metadata": {},
     "output_type": "display_data"
    }
   ],
   "source": [
    "# Plot out some stats for an individual player\n",
    "plotPlayerInfo('Evgeny Kuznetsov')"
   ]
  },
  {
   "cell_type": "code",
   "execution_count": 32,
   "metadata": {},
   "outputs": [
    {
     "name": "stdout",
     "output_type": "stream",
     "text": [
      "11    Dale Hawerchuk\n",
      "Name: playerName, dtype: object\n"
     ]
    }
   ],
   "source": [
    "# Who had the most goals in the year in which they were drafted.\n",
    "topPicks = playerdata.query('playerDraftOverallPickNo == 1 & playerDraftYear == year')\n",
    "maxRookieGoals = topPicks.goals.max()\n",
    "print( topPicks.query('goals == @maxRookieGoals')['playerName'] )"
   ]
  },
  {
   "cell_type": "code",
   "execution_count": 33,
   "metadata": {},
   "outputs": [
    {
     "data": {
      "text/plain": [
       "[<matplotlib.lines.Line2D at 0x20d000c1dd8>]"
      ]
     },
     "execution_count": 33,
     "metadata": {},
     "output_type": "execute_result"
    },
    {
     "data": {
      "image/png": "[encoded data removed]",
      "text/plain": [
       "<Figure size 432x288 with 1 Axes>"
      ]
     },
     "metadata": {},
     "output_type": "display_data"
    }
   ],
   "source": [
    "# Total goals per year graphed out\n",
    "totalGoalsPerYear = pd.DataFrame(columns=['year','goals'])\n",
    "for year in years:\n",
    "    totalGoalsForYear = playerdata[['playerName','goals','year']].query('year == @year').goals.sum()\n",
    "    totalGoalsPerYear = totalGoalsPerYear.append({'year':year, 'goals':totalGoalsForYear}, ignore_index=True)\n",
    "\n",
    "plt.plot(totalGoalsPerYear['year'], totalGoalsPerYear['goals'])"
   ]
  },
  {
   "cell_type": "code",
   "execution_count": null,
   "metadata": {},
   "outputs": [],
   "source": []
  }
 ],
 "metadata": {
  "kernelspec": {
   "display_name": "Python [default]",
   "language": "python",
   "name": "python3"
  },
  "language_info": {
   "codemirror_mode": {
    "name": "ipython",
    "version": 3
   },
   "file_extension": ".py",
   "mimetype": "text/x-python",
   "name": "python",
   "nbconvert_exporter": "python",
   "pygments_lexer": "ipython3",
   "version": "3.6.6"
  }
 },
 "nbformat": 4,
 "nbformat_minor": 2
}
